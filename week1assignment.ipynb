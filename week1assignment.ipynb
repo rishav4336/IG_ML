{
  "nbformat": 4,
  "nbformat_minor": 0,
  "metadata": {
    "colab": {
      "name": "week1assignment.ipynb",
      "provenance": [],
      "include_colab_link": true
    },
    "kernelspec": {
      "name": "python3",
      "display_name": "Python 3"
    }
  },
  "cells": [
    {
      "cell_type": "markdown",
      "metadata": {
        "id": "view-in-github",
        "colab_type": "text"
      },
      "source": [
        "<a href=\"https://colab.research.google.com/github/rishav4336/IG_ML/blob/master/week1assignment.ipynb\" target=\"_parent\"><img src=\"https://colab.research.google.com/assets/colab-badge.svg\" alt=\"Open In Colab\"/></a>"
      ]
    },
    {
      "cell_type": "code",
      "metadata": {
        "id": "F-6bE0dYcBgA",
        "colab_type": "code",
        "colab": {}
      },
      "source": [
        "## Import stuff\n",
        " \n",
        "import numpy as np\n",
        "from sklearn import datasets, linear_model, metrics"
      ],
      "execution_count": 0,
      "outputs": []
    },
    {
      "cell_type": "code",
      "metadata": {
        "id": "gK71NIhMcEs5",
        "colab_type": "code",
        "colab": {
          "base_uri": "https://localhost:8080/",
          "height": 34
        },
        "outputId": "e91444b5-7f1a-4b97-e5e8-3258c97a2eea"
      },
      "source": [
        "## Load the diabetes dataset\n",
        "diabetes = datasets.load_diabetes()\n",
        "diabetes_X = diabetes.data # matrix of dimensions 442x10\n",
        " \n",
        "# Split the data into training/testing sets\n",
        "diabetes_X_train = diabetes_X[:-20]\n",
        "diabetes_X_test = diabetes_X[-20:]\n",
        " \n",
        "# Split the targets into training/testing sets\n",
        "diabetes_y_train = diabetes.target[:-20]\n",
        "diabetes_y_test = diabetes.target[-20:]\n",
        "print(diabetes_X_test.shape)"
      ],
      "execution_count": 7,
      "outputs": [
        {
          "output_type": "stream",
          "text": [
            "(20, 10)\n"
          ],
          "name": "stdout"
        }
      ]
    },
    {
      "cell_type": "code",
      "metadata": {
        "id": "XJTg22ybcHsl",
        "colab_type": "code",
        "colab": {
          "base_uri": "https://localhost:8080/",
          "height": 357
        },
        "outputId": "c3e1ef1a-fc5e-43d5-c5fa-7bee47fee109"
      },
      "source": [
        "# train\n",
        "X = diabetes_X_train\n",
        "y = diabetes_y_train\n",
        " \n",
        "# train: init\n",
        "row,col=X.shape\n",
        "theta= np.zeros((col+1,1))\n",
        "\n",
        "X=np.insert(X,0, 1, axis=1)\n",
        "theta1=theta\n",
        "learning_rate = 0.1\n",
        "epochs = 100000\n",
        "cost=[]\n",
        "# train: gradient descent\n",
        "for i in range(epochs):\n",
        "    # calculate predictions\n",
        "    \n",
        "    hTheta=np.dot(theta.T,X.T)\n",
        "    # calculate error and cost (mean squared error)\n",
        "    error=hTheta-y\n",
        "    mean_squared_error=(1/(2*row))*np.dot(error,error.T)\n",
        "\n",
        "    # calculate gradients\n",
        "    cost.insert(len(cost),mean_squared_error)\n",
        "    \n",
        "    for j in range(0,len(theta)):\n",
        "      xi=X[:,j]\n",
        "      xi=np.array(xi)\n",
        "      theta1[j]=theta[j]-(learning_rate/row)*(np.dot(error,xi.T))\n",
        "      \n",
        "    # diagnostic output\n",
        "    if i % 5000 == 0:\n",
        "       print(\"Epoch %d: %f\" % (i, mean_squared_error))\n",
        "    theta=theta1"
      ],
      "execution_count": 110,
      "outputs": [
        {
          "output_type": "stream",
          "text": [
            "Epoch 0: 14734.323460\n",
            "Epoch 5000: 1524.099638\n",
            "Epoch 10000: 1470.706970\n",
            "Epoch 15000: 1463.728650\n",
            "Epoch 20000: 1462.376138\n",
            "Epoch 25000: 1461.897451\n",
            "Epoch 30000: 1461.597617\n",
            "Epoch 35000: 1461.347012\n",
            "Epoch 40000: 1461.115463\n",
            "Epoch 45000: 1460.894566\n",
            "Epoch 50000: 1460.681519\n",
            "Epoch 55000: 1460.475130\n",
            "Epoch 60000: 1460.274728\n",
            "Epoch 65000: 1460.079839\n",
            "Epoch 70000: 1459.890088\n",
            "Epoch 75000: 1459.705159\n",
            "Epoch 80000: 1459.524779\n",
            "Epoch 85000: 1459.348712\n",
            "Epoch 90000: 1459.176750\n",
            "Epoch 95000: 1459.008707\n"
          ],
          "name": "stdout"
        }
      ]
    },
    {
      "cell_type": "code",
      "metadata": {
        "id": "uvSdTn-0cKJL",
        "colab_type": "code",
        "colab": {
          "base_uri": "https://localhost:8080/",
          "height": 595
        },
        "outputId": "4ee2f2e6-a142-4c3a-c2c5-94800f2fd8ea"
      },
      "source": [
        "# test\n",
        "X = diabetes_X_test\n",
        "y = diabetes_y_test\n",
        "X=np.insert(X,0, 1, axis=1)\n",
        "y_pred=[]\n",
        "for i in range(len(X)):\n",
        "  xi=X[i,:]\n",
        "  yp=np.dot(xi.T,theta)\n",
        "  y_pred.insert(len(y_pred),yp)\n",
        "y_pred=np.array(y_pred)  \n",
        "for i in range(len(y)):\n",
        "  print(y_pred[i],\" =\",y[i])\n",
        "# calculate predictions + calculate error and cost (same code as above)\n",
        "...\n",
        "print('Coefficients: \\n', theta)\n",
        "print(\"Mean squared error: %.2f\" % mean_squared_error)\n",
        "print(\"=\"*120)"
      ],
      "execution_count": 116,
      "outputs": [
        {
          "output_type": "stream",
          "text": [
            "[198.01337155]  = 233.0\n",
            "[150.63869726]  = 91.0\n",
            "[169.40630715]  = 111.0\n",
            "[108.26738232]  = 152.0\n",
            "[162.77538992]  = 120.0\n",
            "[132.31769096]  = 67.0\n",
            "[260.65164647]  = 310.0\n",
            "[100.65935635]  = 94.0\n",
            "[115.11964617]  = 183.0\n",
            "[121.48772887]  = 66.0\n",
            "[218.6491296]  = 173.0\n",
            "[60.79740602]  = 72.0\n",
            "[135.46631725]  = 49.0\n",
            "[121.31605651]  = 64.0\n",
            "[53.846814]  = 48.0\n",
            "[192.83341278]  = 178.0\n",
            "[103.81445295]  = 104.0\n",
            "[126.11377706]  = 132.0\n",
            "[208.970944]  = 220.0\n",
            "[45.94984287]  = 57.0\n",
            "Coefficients: \n",
            " [[ 152.72872179]\n",
            " [   3.66162077]\n",
            " [-234.66428413]\n",
            " [ 519.39480725]\n",
            " [ 325.58121803]\n",
            " [-176.09741143]\n",
            " [ -16.44091006]\n",
            " [-180.07233874]\n",
            " [ 108.04606018]\n",
            " [ 502.78371278]\n",
            " [  78.97034211]]\n",
            "Mean squared error: 1458.84\n",
            "========================================================================================================================\n"
          ],
          "name": "stdout"
        }
      ]
    }
  ]
}